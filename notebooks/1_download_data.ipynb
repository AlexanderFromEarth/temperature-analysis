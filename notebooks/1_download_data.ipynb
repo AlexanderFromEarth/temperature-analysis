{
 "cells": [
  {
   "cell_type": "markdown",
   "source": [
    "Подготавливаем HTML для парсинга"
   ],
   "metadata": {
    "collapsed": false
   }
  },
  {
   "cell_type": "code",
   "execution_count": 1,
   "metadata": {
    "collapsed": true
   },
   "outputs": [
    {
     "data": {
      "text/plain": "'<html>\\n <body>\\n  <p>\\n   04.12.2021 13:38:31 !!!\\n  </p>\\n  <table border=\"\">\\n   hellohello1\\n   <tr style=\"background:navy;color:white;\">\\n    <td colspan=\"3\">\\n     -\\n    </td>\\n   </tr>\\n   <tr>\\n    <td>\\n     <a href=\"/view/616412704B56\" target=\"_blank\">\\n      616412704B56\\n     </a>\\n    </td>\\n    <td style=\";background-color:red;color:white;\">\\n     <p style=\"font-size:18pt;text-align:right;padding:0px;margin:0px;\">\\n      -1.69\\n     </p>\\n     <p style=\"font-size:8pt;text-align:right;padding:0px;margin:0px;\">\\n      07.04.2020 21:44\\n     </p>\\n    </td>\\n    <td>\\n     <a href=\"/edit/616412704B56\">\\n      edit\\n     </a>\\n    </td>\\n   </tr>\\n   <tr>\\n    <td>\\n     <a href=\"/view/616412731311\" target=\"_blank\">\\n      616412731311\\n     </a>\\n    </td>\\n    <td style=\";background-color:red;color:white;\">\\n     <p style=\"font-size:18pt;text-align:right;padding:0px;margin:0px;\">\\n      -3.87\\n     </p>\\n     <p style=\"font-size:8pt;text-align:right;padding:0px;margin:0px;\">\\n      07.04.2020 21:44\\n     </p>\\n    </td>\\n    <td>\\n     <a href=\"/edit/616412731311\">\\n      edit\\n     </a>\\n    </td>\\n   </tr>\\n   <tr>\\n    <td>\\n     <a href=\"/view/6164127316DB\" target=\"_blank\">\\n      6164127316DB\\n     </a>\\n    </td>\\n    <td style=\";background-color:red;color:white;\">\\n     <p style=\"font-size:18pt;text-align:right;padding:0px;margin:0px;\">\\n      -0.62\\n     </p>\\n     <p style=\"font-size:8pt;text-align:right;padding:0px;margin:0px;\">\\n      07.04.2020 21:46\\n     </p>\\n    </td>\\n    <td>\\n     <a href=\"/edit/6164127316DB\">\\n      edit\\n     </a>\\n    </td>\\n   </tr>\\n   <tr>\\n    <td>\\n     <a href=\"/view/61641273E9C4\" target=\"_blank\">\\n      61641273E9C4\\n     </a>\\n    </td>\\n    <td style=\";background-color:red;color:white;\">\\n     <p style=\"font-size:18pt;text-align:right;padding:0px;margin:0px;\">\\n      -0.37\\n     </p>\\n     <p style=\"font-size:8pt;text-align:right;padding:0px;margin:0px;\">\\n      07.04.2020 21:44\\n     </p>\\n    </td>\\n    <td>\\n     <a href=\"/edit/61641273E9C4\">\\n      edit\\n     </a>\\n    </td>\\n   </tr>\\n   <tr>\\n    <td>\\n     <a href=\"/view/B05079970903\" target=\"_blank\">\\n      B05079970903\\n     </a>\\n    </td>\\n    <td style=\";background-color:red;color:white;\">\\n     <p style=\"font-size:18pt;text-align:right;padding:0px;margin:0px;\">\\n      -1.25\\n     </p>\\n     <p style=\"font-size:8pt;text-align:right;padding:0px;margin:0px;\">\\n      07.04.2020 21:46\\n     </p>\\n    </td>\\n    <td>\\n     <a href=\"/edit/B05079970903\">\\n      edit\\n     </a>\\n    </td>\\n   </tr>\\n   <tr>\\n    <td>\\n     <a href=\"/view/FFA109B31604\" target=\"_blank\">\\n      FFA109B31604\\n     </a>\\n    </td>\\n    <td style=\";background-color:red;color:white;\">\\n     <p style=\"font-size:18pt;text-align:right;padding:0px;margin:0px;\">\\n      -1.00\\n     </p>\\n     <p style=\"font-size:8pt;text-align:right;padding:0px;margin:0px;\">\\n      07.04.2020 21:44\\n     </p>\\n    </td>\\n    <td>\\n     <a href=\"/edit/FFA109B31604\">\\n      edit\\n     </a>\\n    </td>\\n   </tr>\\n   <tr style=\"background:navy;color:white;\">\\n    <td colspan=\"3\">\\n     210\\n    </td>\\n   </tr>\\n   <tr>\\n    <td>\\n     <a href=\"/view/ABE679970903\" target=\"_blank\">\\n      bat\\n     </a>\\n    </td>\\n    <td style=\"\">\\n     <p style=\"font-size:18pt;text-align:right;padding:0px;margin:0px;\">\\n      40.44\\n     </p>\\n     <p style=\"font-size:8pt;text-align:right;padding:0px;margin:0px;\">\\n      13:33\\n     </p>\\n    </td>\\n    <td>\\n     <a href=\"/edit/ABE679970903\">\\n      edit\\n     </a>\\n    </td>\\n   </tr>\\n   <tr>\\n    <td>\\n     <a href=\"/view/43E079971203\" target=\"_blank\">\\n      wall\\n     </a>\\n    </td>\\n    <td style=\"\">\\n     <p style=\"font-size:18pt;text-align:right;padding:0px;margin:0px;\">\\n      24.87\\n     </p>\\n     <p style=\"font-size:8pt;text-align:right;padding:0px;margin:0px;\">\\n      13:29\\n     </p>\\n    </td>\\n    <td>\\n     <a href=\"/edit/43E079971203\">\\n      edit\\n     </a>\\n    </td>\\n   </tr>\\n   <tr style=\"background:navy;color:white;\">\\n    <td colspan=\"3\">\\n     316\\n    </td>\\n   </tr>\\n   <tr>\\n    <td>\\n     <a href=\"/view/0A7779970903\" target=\"_blank\">\\n      bat\\n     </a>\\n    </td>\\n    <td style=\"\">\\n     <p style=\"font-size:18pt;text-align:right;padding:0px;margin:0px;\">\\n      37.75\\n     </p>\\n     <p style=\"font-size:8pt;text-align:right;padding:0px;margin:0px;\">\\n      13:35\\n     </p>\\n    </td>\\n    <td>\\n     <a href=\"/edit/0A7779970903\">\\n      edit\\n     </a>\\n    </td>\\n   </tr>\\n   <tr>\\n    <td>\\n     <a href=\"/view/94CC79971203\" target=\"_blank\">\\n      wall\\n     </a>\\n    </td>\\n    <td style=\"\">\\n     <p style=\"font-size:18pt;text-align:right;padding:0px;margin:0px;\">\\n      20.19\\n     </p>\\n     <p style=\"font-size:8pt;text-align:right;padding:0px;margin:0px;\">\\n      13:35\\n     </p>\\n    </td>\\n    <td>\\n     <a href=\"/edit/94CC79971203\">\\n      edit\\n     </a>\\n    </td>\\n   </tr>\\n   <tr style=\"background:navy;color:white;\">\\n    <td colspan=\"3\">\\n     412-a\\n    </td>\\n   </tr>\\n   <tr>\\n    <td>\\n     <a href=\"/view/7D0679971403\" target=\"_blank\">\\n      bat\\n     </a>\\n    </td>\\n    <td style=\"\">\\n     <p style=\"font-size:18pt;text-align:right;padding:0px;margin:0px;\">\\n      23.25\\n     </p>\\n     <p style=\"font-size:8pt;text-align:right;padding:0px;margin:0px;\">\\n      13:32\\n     </p>\\n    </td>\\n    <td>\\n     <a href=\"/edit/7D0679971403\">\\n      edit\\n     </a>\\n    </td>\\n   </tr>\\n   <tr>\\n    <td>\\n     <a href=\"/view/A2BF79971203\" target=\"_blank\">\\n      wall\\n     </a>\\n    </td>\\n    <td style=\"\">\\n     <p style=\"font-size:18pt;text-align:right;padding:0px;margin:0px;\">\\n      21.87\\n     </p>\\n     <p style=\"font-size:8pt;text-align:right;padding:0px;margin:0px;\">\\n      13:32\\n     </p>\\n    </td>\\n    <td>\\n     <a href=\"/edit/A2BF79971203\">\\n      edit\\n     </a>\\n    </td>\\n   </tr>\\n   <tr style=\"background:navy;color:white;\">\\n    <td colspan=\"3\">\\n     420\\n    </td>\\n   </tr>\\n   <tr>\\n    <td>\\n     <a href=\"/view/53C779971203\" target=\"_blank\">\\n      bat\\n     </a>\\n    </td>\\n    <td style=\"\">\\n     <p style=\"font-size:18pt;text-align:right;padding:0px;margin:0px;\">\\n      45.81\\n     </p>\\n     <p style=\"font-size:8pt;text-align:right;padding:0px;margin:0px;\">\\n      13:29\\n     </p>\\n    </td>\\n    <td>\\n     <a href=\"/edit/53C779971203\">\\n      edit\\n     </a>\\n    </td>\\n   </tr>\\n   <tr>\\n    <td>\\n     <a href=\"/view/6AE379971203\" target=\"_blank\">\\n      wall\\n     </a>\\n    </td>\\n    <td style=\"\">\\n     <p style=\"font-size:18pt;text-align:right;padding:0px;margin:0px;\">\\n      22.62\\n     </p>\\n     <p style=\"font-size:8pt;text-align:right;padding:0px;margin:0px;\">\\n      13:29\\n     </p>\\n    </td>\\n    <td>\\n     <a href=\"/edit/6AE379971203\">\\n      edit\\n     </a>\\n    </td>\\n   </tr>\\n   <tr style=\"background:navy;color:white;\">\\n    <td colspan=\"3\">\\n     СФ\\n    </td>\\n   </tr>\\n   <tr>\\n    <td>\\n     <a href=\"/view/BDF579970903\" target=\"_blank\">\\n      bat\\n     </a>\\n    </td>\\n    <td style=\";background-color:red;color:white;\">\\n     <p style=\"font-size:18pt;text-align:right;padding:0px;margin:0px;\">\\n      43.94\\n     </p>\\n     <p style=\"font-size:8pt;text-align:right;padding:0px;margin:0px;\">\\n      10.11.2021 13:35\\n     </p>\\n    </td>\\n    <td>\\n     <a href=\"/edit/BDF579970903\">\\n      edit\\n     </a>\\n    </td>\\n   </tr>\\n   <tr>\\n    <td>\\n     <a href=\"/view/F51A79970903\" target=\"_blank\">\\n      wall\\n     </a>\\n    </td>\\n    <td style=\";background-color:red;color:white;\">\\n     <p style=\"font-size:18pt;text-align:right;padding:0px;margin:0px;\">\\n      21.19\\n     </p>\\n     <p style=\"font-size:8pt;text-align:right;padding:0px;margin:0px;\">\\n      10.11.2021 13:35\\n     </p>\\n    </td>\\n    <td>\\n     <a href=\"/edit/F51A79970903\">\\n      edit\\n     </a>\\n    </td>\\n   </tr>\\n  </table>\\n </body>\\n</html>'"
     },
     "execution_count": 1,
     "metadata": {},
     "output_type": "execute_result"
    }
   ],
   "source": [
    "from bs4 import BeautifulSoup\n",
    "from requests import get\n",
    "\n",
    "base_url = 'https://sensors.mwlabs.ru'\n",
    "bs = BeautifulSoup(get(base_url).text)\n",
    "bs.prettify()"
   ]
  },
  {
   "cell_type": "markdown",
   "source": [
    "Парсим ссылки на данные, по которым идёт сбор до сих пор, попутно формируя имена для рядов исходя из аудитории и расположения датчика в ней"
   ],
   "metadata": {
    "collapsed": false
   }
  },
  {
   "cell_type": "code",
   "execution_count": 2,
   "outputs": [
    {
     "name": "stdout",
     "output_type": "stream",
     "text": [
      "{'bat_210': '/view/ABE679970903',\n",
      " 'bat_316': '/view/0A7779970903',\n",
      " 'bat_412_a': '/view/7D0679971403',\n",
      " 'bat_420': '/view/53C779971203',\n",
      " 'wall_210': '/view/43E079971203',\n",
      " 'wall_316': '/view/94CC79971203',\n",
      " 'wall_412_a': '/view/A2BF79971203',\n",
      " 'wall_420': '/view/6AE379971203'}\n"
     ]
    }
   ],
   "source": [
    "from itertools import takewhile\n",
    "\n",
    "sensors_urls = {\n",
    "    '_'.join((tr_place.td.a.text, tr_class.td.text.replace('-', '_'))): tr_place.td.a.get('href')\n",
    "    for tr_class in bs.find_all('tr')\n",
    "    for tr_place in (\n",
    "        sibling\n",
    "        for sibling in takewhile(\n",
    "            lambda sibling: not bool(sibling.get('style')),\n",
    "            tr_class.find_next_siblings('tr')\n",
    "        )\n",
    "        if all(not bool(td.get('style')) for td in sibling.find_all('td'))\n",
    "    )\n",
    "    if bool(tr_class.get('style'))\n",
    "}\n",
    "sensors_urls"
   ],
   "metadata": {
    "collapsed": false,
    "pycharm": {
     "name": "#%%\n"
    }
   }
  },
  {
   "cell_type": "markdown",
   "source": [
    "Загружаем данные по полученным ссылкам и сохраняем их на диск"
   ],
   "metadata": {
    "collapsed": false
   }
  },
  {
   "cell_type": "code",
   "execution_count": 3,
   "outputs": [],
   "source": [
    "from csv import writer\n",
    "from dateutil.parser import parse\n",
    "from pathlib import Path\n",
    "from urllib.parse import urljoin\n",
    "\n",
    "temperatures_directory = Path.cwd() / '..' / 'data' / 'temperatures' / parse(bs.text[:19]).isoformat() / '1_raw'\n",
    "\n",
    "temperatures_directory.mkdir(parents=True, exist_ok=True)\n",
    "\n",
    "for sensor, url in sensors_urls.items():\n",
    "    with open(temperatures_directory / f'{sensor}.csv', 'w') as file:\n",
    "        writer(file).writerows(\n",
    "            (measurement[:19], measurement[20:])\n",
    "            for measurement in get(urljoin(base_url, url)).text.split('\\r\\n')[:-1]\n",
    "        )"
   ],
   "metadata": {
    "collapsed": false,
    "pycharm": {
     "name": "#%%\n"
    }
   }
  }
 ],
 "metadata": {
  "kernelspec": {
   "display_name": "Python 3",
   "language": "python",
   "name": "python3"
  },
  "language_info": {
   "codemirror_mode": {
    "name": "ipython",
    "version": 2
   },
   "file_extension": ".py",
   "mimetype": "text/x-python",
   "name": "python",
   "nbconvert_exporter": "python",
   "pygments_lexer": "ipython2",
   "version": "2.7.6"
  }
 },
 "nbformat": 4,
 "nbformat_minor": 0
}