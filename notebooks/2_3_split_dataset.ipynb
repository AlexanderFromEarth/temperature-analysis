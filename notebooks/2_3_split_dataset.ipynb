{
 "cells": [
  {
   "cell_type": "code",
   "execution_count": 1,
   "metadata": {
    "collapsed": true
   },
   "outputs": [
    {
     "data": {
      "text/plain": "PosixPath('/home/naheridi/DataspellProjects/temperature-analysis/notebooks/../data/temperatures/2021-04-12T13:38:31')"
     },
     "execution_count": 1,
     "metadata": {},
     "output_type": "execute_result"
    }
   ],
   "source": [
    "from lib.functions.get_temperature_path import get_temperatures_path\n",
    "\n",
    "last_fetch_path = get_temperatures_path()\n",
    "last_fetch_path"
   ]
  },
  {
   "cell_type": "code",
   "execution_count": 2,
   "outputs": [
    {
     "data": {
      "text/plain": "                     wall_316  wall_210  bat_412_a  bat_316  bat_420  \\\n2020-03-02 09:00:00     22.62       NaN      43.06    47.06    50.25   \n2020-03-02 09:10:00     22.62     24.25      43.19    46.81    49.88   \n2020-03-02 09:20:00     22.56     23.06      43.00    46.63    49.31   \n2020-03-02 09:30:00     22.62     21.94      42.69    46.56    49.31   \n2020-03-02 09:40:00     22.62     22.25      42.56      NaN    49.38   \n...                       ...       ...        ...      ...      ...   \n2021-12-04 12:50:00     19.94     24.81      23.00    41.37    46.81   \n2021-12-04 13:00:00     19.94     24.87      23.00    37.31    45.63   \n2021-12-04 13:10:00     20.06     24.87      23.06    39.94    49.31   \n2021-12-04 13:20:00     20.12     24.87      23.25    39.00    45.81   \n2021-12-04 13:30:00     20.19       NaN      23.25    37.75      NaN   \n\n                     wall_412_a  bat_210  wall_420  \n2020-03-02 09:00:00       23.44      NaN     22.44  \n2020-03-02 09:10:00       23.50    43.50     22.44  \n2020-03-02 09:20:00       23.44    43.00     22.25  \n2020-03-02 09:30:00       23.50    42.06     22.69  \n2020-03-02 09:40:00       23.44    42.13     22.94  \n...                         ...      ...       ...  \n2021-12-04 12:50:00       21.44    40.00     22.56  \n2021-12-04 13:00:00       21.50    40.69     22.56  \n2021-12-04 13:10:00       21.56    39.88     22.62  \n2021-12-04 13:20:00       21.75    40.44     22.62  \n2021-12-04 13:30:00       21.87    40.44       NaN  \n\n[30333 rows x 8 columns]",
      "text/html": "<div>\n<style scoped>\n    .dataframe tbody tr th:only-of-type {\n        vertical-align: middle;\n    }\n\n    .dataframe tbody tr th {\n        vertical-align: top;\n    }\n\n    .dataframe thead th {\n        text-align: right;\n    }\n</style>\n<table border=\"1\" class=\"dataframe\">\n  <thead>\n    <tr style=\"text-align: right;\">\n      <th></th>\n      <th>wall_316</th>\n      <th>wall_210</th>\n      <th>bat_412_a</th>\n      <th>bat_316</th>\n      <th>bat_420</th>\n      <th>wall_412_a</th>\n      <th>bat_210</th>\n      <th>wall_420</th>\n    </tr>\n  </thead>\n  <tbody>\n    <tr>\n      <th>2020-03-02 09:00:00</th>\n      <td>22.62</td>\n      <td>NaN</td>\n      <td>43.06</td>\n      <td>47.06</td>\n      <td>50.25</td>\n      <td>23.44</td>\n      <td>NaN</td>\n      <td>22.44</td>\n    </tr>\n    <tr>\n      <th>2020-03-02 09:10:00</th>\n      <td>22.62</td>\n      <td>24.25</td>\n      <td>43.19</td>\n      <td>46.81</td>\n      <td>49.88</td>\n      <td>23.50</td>\n      <td>43.50</td>\n      <td>22.44</td>\n    </tr>\n    <tr>\n      <th>2020-03-02 09:20:00</th>\n      <td>22.56</td>\n      <td>23.06</td>\n      <td>43.00</td>\n      <td>46.63</td>\n      <td>49.31</td>\n      <td>23.44</td>\n      <td>43.00</td>\n      <td>22.25</td>\n    </tr>\n    <tr>\n      <th>2020-03-02 09:30:00</th>\n      <td>22.62</td>\n      <td>21.94</td>\n      <td>42.69</td>\n      <td>46.56</td>\n      <td>49.31</td>\n      <td>23.50</td>\n      <td>42.06</td>\n      <td>22.69</td>\n    </tr>\n    <tr>\n      <th>2020-03-02 09:40:00</th>\n      <td>22.62</td>\n      <td>22.25</td>\n      <td>42.56</td>\n      <td>NaN</td>\n      <td>49.38</td>\n      <td>23.44</td>\n      <td>42.13</td>\n      <td>22.94</td>\n    </tr>\n    <tr>\n      <th>...</th>\n      <td>...</td>\n      <td>...</td>\n      <td>...</td>\n      <td>...</td>\n      <td>...</td>\n      <td>...</td>\n      <td>...</td>\n      <td>...</td>\n    </tr>\n    <tr>\n      <th>2021-12-04 12:50:00</th>\n      <td>19.94</td>\n      <td>24.81</td>\n      <td>23.00</td>\n      <td>41.37</td>\n      <td>46.81</td>\n      <td>21.44</td>\n      <td>40.00</td>\n      <td>22.56</td>\n    </tr>\n    <tr>\n      <th>2021-12-04 13:00:00</th>\n      <td>19.94</td>\n      <td>24.87</td>\n      <td>23.00</td>\n      <td>37.31</td>\n      <td>45.63</td>\n      <td>21.50</td>\n      <td>40.69</td>\n      <td>22.56</td>\n    </tr>\n    <tr>\n      <th>2021-12-04 13:10:00</th>\n      <td>20.06</td>\n      <td>24.87</td>\n      <td>23.06</td>\n      <td>39.94</td>\n      <td>49.31</td>\n      <td>21.56</td>\n      <td>39.88</td>\n      <td>22.62</td>\n    </tr>\n    <tr>\n      <th>2021-12-04 13:20:00</th>\n      <td>20.12</td>\n      <td>24.87</td>\n      <td>23.25</td>\n      <td>39.00</td>\n      <td>45.81</td>\n      <td>21.75</td>\n      <td>40.44</td>\n      <td>22.62</td>\n    </tr>\n    <tr>\n      <th>2021-12-04 13:30:00</th>\n      <td>20.19</td>\n      <td>NaN</td>\n      <td>23.25</td>\n      <td>37.75</td>\n      <td>NaN</td>\n      <td>21.87</td>\n      <td>40.44</td>\n      <td>NaN</td>\n    </tr>\n  </tbody>\n</table>\n<p>30333 rows × 8 columns</p>\n</div>"
     },
     "execution_count": 2,
     "metadata": {},
     "output_type": "execute_result"
    }
   ],
   "source": [
    "from pandas import read_csv\n",
    "\n",
    "temperatures = read_csv(last_fetch_path / '2_normalized' / 'filtered_dataset.csv', parse_dates=True, index_col=0)\n",
    "temperatures"
   ],
   "metadata": {
    "collapsed": false,
    "pycharm": {
     "name": "#%%\n"
    }
   }
  },
  {
   "cell_type": "code",
   "execution_count": 3,
   "outputs": [
    {
     "data": {
      "text/plain": "                       316    210   412a    420\n2020-03-02 09:00:00  22.62    NaN  23.44  22.44\n2020-03-02 09:10:00  22.62  24.25  23.50  22.44\n2020-03-02 09:20:00  22.56  23.06  23.44  22.25\n2020-03-02 09:30:00  22.62  21.94  23.50  22.69\n2020-03-02 09:40:00  22.62  22.25  23.44  22.94\n...                    ...    ...    ...    ...\n2021-12-04 12:50:00  19.94  24.81  21.44  22.56\n2021-12-04 13:00:00  19.94  24.87  21.50  22.56\n2021-12-04 13:10:00  20.06  24.87  21.56  22.62\n2021-12-04 13:20:00  20.12  24.87  21.75  22.62\n2021-12-04 13:30:00  20.19    NaN  21.87    NaN\n\n[30333 rows x 4 columns]",
      "text/html": "<div>\n<style scoped>\n    .dataframe tbody tr th:only-of-type {\n        vertical-align: middle;\n    }\n\n    .dataframe tbody tr th {\n        vertical-align: top;\n    }\n\n    .dataframe thead th {\n        text-align: right;\n    }\n</style>\n<table border=\"1\" class=\"dataframe\">\n  <thead>\n    <tr style=\"text-align: right;\">\n      <th></th>\n      <th>316</th>\n      <th>210</th>\n      <th>412a</th>\n      <th>420</th>\n    </tr>\n  </thead>\n  <tbody>\n    <tr>\n      <th>2020-03-02 09:00:00</th>\n      <td>22.62</td>\n      <td>NaN</td>\n      <td>23.44</td>\n      <td>22.44</td>\n    </tr>\n    <tr>\n      <th>2020-03-02 09:10:00</th>\n      <td>22.62</td>\n      <td>24.25</td>\n      <td>23.50</td>\n      <td>22.44</td>\n    </tr>\n    <tr>\n      <th>2020-03-02 09:20:00</th>\n      <td>22.56</td>\n      <td>23.06</td>\n      <td>23.44</td>\n      <td>22.25</td>\n    </tr>\n    <tr>\n      <th>2020-03-02 09:30:00</th>\n      <td>22.62</td>\n      <td>21.94</td>\n      <td>23.50</td>\n      <td>22.69</td>\n    </tr>\n    <tr>\n      <th>2020-03-02 09:40:00</th>\n      <td>22.62</td>\n      <td>22.25</td>\n      <td>23.44</td>\n      <td>22.94</td>\n    </tr>\n    <tr>\n      <th>...</th>\n      <td>...</td>\n      <td>...</td>\n      <td>...</td>\n      <td>...</td>\n    </tr>\n    <tr>\n      <th>2021-12-04 12:50:00</th>\n      <td>19.94</td>\n      <td>24.81</td>\n      <td>21.44</td>\n      <td>22.56</td>\n    </tr>\n    <tr>\n      <th>2021-12-04 13:00:00</th>\n      <td>19.94</td>\n      <td>24.87</td>\n      <td>21.50</td>\n      <td>22.56</td>\n    </tr>\n    <tr>\n      <th>2021-12-04 13:10:00</th>\n      <td>20.06</td>\n      <td>24.87</td>\n      <td>21.56</td>\n      <td>22.62</td>\n    </tr>\n    <tr>\n      <th>2021-12-04 13:20:00</th>\n      <td>20.12</td>\n      <td>24.87</td>\n      <td>21.75</td>\n      <td>22.62</td>\n    </tr>\n    <tr>\n      <th>2021-12-04 13:30:00</th>\n      <td>20.19</td>\n      <td>NaN</td>\n      <td>21.87</td>\n      <td>NaN</td>\n    </tr>\n  </tbody>\n</table>\n<p>30333 rows × 4 columns</p>\n</div>"
     },
     "execution_count": 3,
     "metadata": {},
     "output_type": "execute_result"
    }
   ],
   "source": [
    "wall_temperatures = temperatures[[column for column in temperatures.columns if column.startswith('wall')]]\n",
    "wall_temperatures = wall_temperatures.rename(columns={column: column.replace('wall', '').replace('_', '') for column in wall_temperatures.columns})\n",
    "wall_temperatures"
   ],
   "metadata": {
    "collapsed": false,
    "pycharm": {
     "name": "#%%\n"
    }
   }
  },
  {
   "cell_type": "code",
   "execution_count": 4,
   "outputs": [
    {
     "data": {
      "text/plain": "                     bat_412_a  bat_316  bat_420  bat_210\n2020-03-02 09:00:00      43.06    47.06    50.25      NaN\n2020-03-02 09:10:00      43.19    46.81    49.88    43.50\n2020-03-02 09:20:00      43.00    46.63    49.31    43.00\n2020-03-02 09:30:00      42.69    46.56    49.31    42.06\n2020-03-02 09:40:00      42.56      NaN    49.38    42.13\n...                        ...      ...      ...      ...\n2021-12-04 12:50:00      23.00    41.37    46.81    40.00\n2021-12-04 13:00:00      23.00    37.31    45.63    40.69\n2021-12-04 13:10:00      23.06    39.94    49.31    39.88\n2021-12-04 13:20:00      23.25    39.00    45.81    40.44\n2021-12-04 13:30:00      23.25    37.75      NaN    40.44\n\n[30333 rows x 4 columns]",
      "text/html": "<div>\n<style scoped>\n    .dataframe tbody tr th:only-of-type {\n        vertical-align: middle;\n    }\n\n    .dataframe tbody tr th {\n        vertical-align: top;\n    }\n\n    .dataframe thead th {\n        text-align: right;\n    }\n</style>\n<table border=\"1\" class=\"dataframe\">\n  <thead>\n    <tr style=\"text-align: right;\">\n      <th></th>\n      <th>bat_412_a</th>\n      <th>bat_316</th>\n      <th>bat_420</th>\n      <th>bat_210</th>\n    </tr>\n  </thead>\n  <tbody>\n    <tr>\n      <th>2020-03-02 09:00:00</th>\n      <td>43.06</td>\n      <td>47.06</td>\n      <td>50.25</td>\n      <td>NaN</td>\n    </tr>\n    <tr>\n      <th>2020-03-02 09:10:00</th>\n      <td>43.19</td>\n      <td>46.81</td>\n      <td>49.88</td>\n      <td>43.50</td>\n    </tr>\n    <tr>\n      <th>2020-03-02 09:20:00</th>\n      <td>43.00</td>\n      <td>46.63</td>\n      <td>49.31</td>\n      <td>43.00</td>\n    </tr>\n    <tr>\n      <th>2020-03-02 09:30:00</th>\n      <td>42.69</td>\n      <td>46.56</td>\n      <td>49.31</td>\n      <td>42.06</td>\n    </tr>\n    <tr>\n      <th>2020-03-02 09:40:00</th>\n      <td>42.56</td>\n      <td>NaN</td>\n      <td>49.38</td>\n      <td>42.13</td>\n    </tr>\n    <tr>\n      <th>...</th>\n      <td>...</td>\n      <td>...</td>\n      <td>...</td>\n      <td>...</td>\n    </tr>\n    <tr>\n      <th>2021-12-04 12:50:00</th>\n      <td>23.00</td>\n      <td>41.37</td>\n      <td>46.81</td>\n      <td>40.00</td>\n    </tr>\n    <tr>\n      <th>2021-12-04 13:00:00</th>\n      <td>23.00</td>\n      <td>37.31</td>\n      <td>45.63</td>\n      <td>40.69</td>\n    </tr>\n    <tr>\n      <th>2021-12-04 13:10:00</th>\n      <td>23.06</td>\n      <td>39.94</td>\n      <td>49.31</td>\n      <td>39.88</td>\n    </tr>\n    <tr>\n      <th>2021-12-04 13:20:00</th>\n      <td>23.25</td>\n      <td>39.00</td>\n      <td>45.81</td>\n      <td>40.44</td>\n    </tr>\n    <tr>\n      <th>2021-12-04 13:30:00</th>\n      <td>23.25</td>\n      <td>37.75</td>\n      <td>NaN</td>\n      <td>40.44</td>\n    </tr>\n  </tbody>\n</table>\n<p>30333 rows × 4 columns</p>\n</div>"
     },
     "execution_count": 4,
     "metadata": {},
     "output_type": "execute_result"
    }
   ],
   "source": [
    "bat_temperatures = temperatures[[column for column in temperatures.columns if column.startswith('bat')]]\n",
    "bat_temperatures = bat_temperatures.rename(columns={column: column.replace('bat', '').replace('_', '') for column in wall_temperatures.columns})\n",
    "bat_temperatures"
   ],
   "metadata": {
    "collapsed": false,
    "pycharm": {
     "name": "#%%\n"
    }
   }
  },
  {
   "cell_type": "code",
   "execution_count": 5,
   "outputs": [
    {
     "data": {
      "text/plain": "PosixPath('/home/naheridi/DataspellProjects/temperature-analysis/notebooks/../data/temperatures/2021-04-12T13:38:31/2_normalized/bat_filtered_dataset.csv')"
     },
     "execution_count": 5,
     "metadata": {},
     "output_type": "execute_result"
    }
   ],
   "source": [
    "bat_dataset_path = last_fetch_path / '2_normalized' / 'bat_filtered_dataset.csv'\n",
    "\n",
    "bat_temperatures.to_csv(bat_dataset_path)\n",
    "bat_dataset_path"
   ],
   "metadata": {
    "collapsed": false,
    "pycharm": {
     "name": "#%%\n"
    }
   }
  },
  {
   "cell_type": "code",
   "execution_count": 6,
   "outputs": [
    {
     "data": {
      "text/plain": "PosixPath('/home/naheridi/DataspellProjects/temperature-analysis/notebooks/../data/temperatures/2021-04-12T13:38:31/2_normalized/wall_filtered_dataset.csv')"
     },
     "execution_count": 6,
     "metadata": {},
     "output_type": "execute_result"
    }
   ],
   "source": [
    "wall_dataset_path = last_fetch_path / '2_normalized' / 'wall_filtered_dataset.csv'\n",
    "\n",
    "wall_temperatures.to_csv(wall_dataset_path)\n",
    "wall_dataset_path"
   ],
   "metadata": {
    "collapsed": false,
    "pycharm": {
     "name": "#%%\n"
    }
   }
  }
 ],
 "metadata": {
  "kernelspec": {
   "display_name": "Python 3",
   "language": "python",
   "name": "python3"
  },
  "language_info": {
   "codemirror_mode": {
    "name": "ipython",
    "version": 2
   },
   "file_extension": ".py",
   "mimetype": "text/x-python",
   "name": "python",
   "nbconvert_exporter": "python",
   "pygments_lexer": "ipython2",
   "version": "2.7.6"
  }
 },
 "nbformat": 4,
 "nbformat_minor": 0
}