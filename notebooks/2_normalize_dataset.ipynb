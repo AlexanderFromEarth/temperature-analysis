{
 "cells": [
  {
   "cell_type": "markdown",
   "source": [
    "Находим актуальные данные"
   ],
   "metadata": {
    "collapsed": false
   }
  },
  {
   "cell_type": "code",
   "execution_count": 4,
   "metadata": {
    "collapsed": true
   },
   "outputs": [
    {
     "data": {
      "text/plain": "PosixPath('/home/naheridi/DataspellProjects/temperature-analysis/notebooks/../data/temperatures/2021-04-12T13:38:31')"
     },
     "execution_count": 4,
     "metadata": {},
     "output_type": "execute_result"
    }
   ],
   "source": [
    "from dateutil.parser import parse\n",
    "from pathlib import Path\n",
    "\n",
    "temperatures_path = Path.cwd()/'..'/'data'/'temperatures'\n",
    "last_fetch_date = sorted(parse(fetch_date.stem) for fetch_date in temperatures_path.iterdir())[-1]\n",
    "last_fetch_path = temperatures_path/last_fetch_date.isoformat()\n",
    "last_fetch_path"
   ]
  },
  {
   "cell_type": "markdown",
   "source": [
    "Формируем один DataFrame для удобства"
   ],
   "metadata": {
    "collapsed": false
   }
  },
  {
   "cell_type": "code",
   "execution_count": 5,
   "outputs": [
    {
     "data": {
      "text/plain": "                     wall_316  wall_210  bat_412_a  bat_316  bat_420  \\\n2020-02-29 16:00:00     23.50     20.25      44.81    48.94    51.50   \n2020-02-29 16:10:00     23.44     20.56      44.88    48.94    51.75   \n2020-02-29 16:30:00     23.50     21.37      44.94    48.94    51.81   \n2020-02-29 16:50:00     23.50     21.75      44.81    49.13    51.88   \n2020-02-29 17:00:00     23.50     21.81      44.88    49.13    52.19   \n\n                     wall_412_a  bat_210  wall_420  \n2020-02-29 16:00:00       25.25    42.06     25.06  \n2020-02-29 16:10:00       25.31    42.25     25.25  \n2020-02-29 16:30:00       25.37    44.00     25.31  \n2020-02-29 16:50:00       25.44    44.13     25.06  \n2020-02-29 17:00:00       25.44    44.25     25.37  ",
      "text/html": "<div>\n<style scoped>\n    .dataframe tbody tr th:only-of-type {\n        vertical-align: middle;\n    }\n\n    .dataframe tbody tr th {\n        vertical-align: top;\n    }\n\n    .dataframe thead th {\n        text-align: right;\n    }\n</style>\n<table border=\"1\" class=\"dataframe\">\n  <thead>\n    <tr style=\"text-align: right;\">\n      <th></th>\n      <th>wall_316</th>\n      <th>wall_210</th>\n      <th>bat_412_a</th>\n      <th>bat_316</th>\n      <th>bat_420</th>\n      <th>wall_412_a</th>\n      <th>bat_210</th>\n      <th>wall_420</th>\n    </tr>\n  </thead>\n  <tbody>\n    <tr>\n      <th>2020-02-29 16:00:00</th>\n      <td>23.50</td>\n      <td>20.25</td>\n      <td>44.81</td>\n      <td>48.94</td>\n      <td>51.50</td>\n      <td>25.25</td>\n      <td>42.06</td>\n      <td>25.06</td>\n    </tr>\n    <tr>\n      <th>2020-02-29 16:10:00</th>\n      <td>23.44</td>\n      <td>20.56</td>\n      <td>44.88</td>\n      <td>48.94</td>\n      <td>51.75</td>\n      <td>25.31</td>\n      <td>42.25</td>\n      <td>25.25</td>\n    </tr>\n    <tr>\n      <th>2020-02-29 16:30:00</th>\n      <td>23.50</td>\n      <td>21.37</td>\n      <td>44.94</td>\n      <td>48.94</td>\n      <td>51.81</td>\n      <td>25.37</td>\n      <td>44.00</td>\n      <td>25.31</td>\n    </tr>\n    <tr>\n      <th>2020-02-29 16:50:00</th>\n      <td>23.50</td>\n      <td>21.75</td>\n      <td>44.81</td>\n      <td>49.13</td>\n      <td>51.88</td>\n      <td>25.44</td>\n      <td>44.13</td>\n      <td>25.06</td>\n    </tr>\n    <tr>\n      <th>2020-02-29 17:00:00</th>\n      <td>23.50</td>\n      <td>21.81</td>\n      <td>44.88</td>\n      <td>49.13</td>\n      <td>52.19</td>\n      <td>25.44</td>\n      <td>44.25</td>\n      <td>25.37</td>\n    </tr>\n  </tbody>\n</table>\n</div>"
     },
     "execution_count": 5,
     "metadata": {},
     "output_type": "execute_result"
    }
   ],
   "source": [
    "from pandas import read_csv, DataFrame, to_numeric\n",
    "\n",
    "path_to_raw = last_fetch_path/'1_raw'\n",
    "\n",
    "temperatures = DataFrame([\n",
    "    read_csv(\n",
    "        path_to_raw/filename,\n",
    "        header=None,\n",
    "        names=[filename.stem],\n",
    "        index_col=0,\n",
    "        squeeze=True,\n",
    "        parse_dates=True\n",
    "    ).apply(\n",
    "        to_numeric,\n",
    "        errors='coerce',\n",
    "        downcast='float'\n",
    "    ).resample(\n",
    "        '10Min'\n",
    "    ).mean()\n",
    "    for filename in path_to_raw.iterdir()\n",
    "]).T\n",
    "temperatures.dropna().head()"
   ],
   "metadata": {
    "collapsed": false,
    "pycharm": {
     "name": "#%%\n"
    }
   }
  },
  {
   "cell_type": "markdown",
   "source": [
    "Сохраняем вместе с изначальными данными"
   ],
   "metadata": {
    "collapsed": false
   }
  },
  {
   "cell_type": "code",
   "execution_count": 6,
   "outputs": [
    {
     "data": {
      "text/plain": "PosixPath('/home/naheridi/DataspellProjects/temperature-analysis/notebooks/../data/temperatures/2021-04-12T13:38:31/2_normalized/dataset.csv')"
     },
     "execution_count": 6,
     "metadata": {},
     "output_type": "execute_result"
    }
   ],
   "source": [
    "normalized_path = last_fetch_path/'2_normalized'\n",
    "\n",
    "normalized_path.mkdir(parents=True)\n",
    "\n",
    "dataset_path = normalized_path/'dataset.csv'\n",
    "\n",
    "temperatures.to_csv(dataset_path)\n",
    "dataset_path"
   ],
   "metadata": {
    "collapsed": false,
    "pycharm": {
     "name": "#%%\n"
    }
   }
  },
  {
   "cell_type": "code",
   "execution_count": 6,
   "outputs": [],
   "source": [],
   "metadata": {
    "collapsed": false,
    "pycharm": {
     "name": "#%%\n"
    }
   }
  }
 ],
 "metadata": {
  "kernelspec": {
   "display_name": "Python 3",
   "language": "python",
   "name": "python3"
  },
  "language_info": {
   "codemirror_mode": {
    "name": "ipython",
    "version": 2
   },
   "file_extension": ".py",
   "mimetype": "text/x-python",
   "name": "python",
   "nbconvert_exporter": "python",
   "pygments_lexer": "ipython2",
   "version": "2.7.6"
  }
 },
 "nbformat": 4,
 "nbformat_minor": 0
}